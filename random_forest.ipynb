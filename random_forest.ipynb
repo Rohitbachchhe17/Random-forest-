{
  "nbformat": 4,
  "nbformat_minor": 0,
  "metadata": {
    "colab": {
      "private_outputs": true,
      "provenance": [],
      "authorship_tag": "ABX9TyPtxd3OEdzf774AjO5R7pRo",
      "include_colab_link": true
    },
    "kernelspec": {
      "name": "python3",
      "display_name": "Python 3"
    },
    "language_info": {
      "name": "python"
    }
  },
  "cells": [
    {
      "cell_type": "markdown",
      "metadata": {
        "id": "view-in-github",
        "colab_type": "text"
      },
      "source": [
        "<a href=\"https://colab.research.google.com/github/Rohitbachchhe17/Random-forest-/blob/main/random_forest.ipynb\" target=\"_parent\"><img src=\"https://colab.research.google.com/assets/colab-badge.svg\" alt=\"Open In Colab\"/></a>"
      ]
    },
    {
      "cell_type": "markdown",
      "source": [
        "# import libraries"
      ],
      "metadata": {
        "id": "3tZRIdBBvPya"
      }
    },
    {
      "cell_type": "code",
      "source": [
        "# Import necessary libraries\n",
        "import pandas as pd\n",
        "from sklearn.model_selection import train_test_split\n",
        "from sklearn.ensemble import RandomForestClassifier\n",
        "from sklearn.metrics import accuracy_score, classification_report\n",
        "import warnings\n",
        "from sklearn.ensemble import RandomForestRegressor\n",
        "warnings.filterwarnings('ignore')\n",
        "from sklearn.metrics import mean_squared_error, r2_score"
      ],
      "metadata": {
        "id": "N7U0s7xxvYGV"
      },
      "execution_count": null,
      "outputs": []
    },
    {
      "cell_type": "markdown",
      "source": [
        "# Load the Titanic Dataset"
      ],
      "metadata": {
        "id": "U5_6xZH9vgMU"
      }
    },
    {
      "cell_type": "code",
      "source": [
        "url = \"https://raw.githubusercontent.com/datasciencedojo/datasets/master/titanic.csv\"\n",
        "titanic_data = pd.read_csv(url)\n",
        "titanic_data.head()"
      ],
      "metadata": {
        "id": "U-ClMYw_v1Dt"
      },
      "execution_count": null,
      "outputs": []
    },
    {
      "cell_type": "markdown",
      "source": [
        "# Drop rows and missing values"
      ],
      "metadata": {
        "id": "sLAGWf4SwDSE"
      }
    },
    {
      "cell_type": "code",
      "source": [
        "# Drop rows with missing target values\n",
        "titanic_data = titanic_data.dropna(subset=['Survived'])"
      ],
      "metadata": {
        "id": "FEpJh5UjwNTL"
      },
      "execution_count": null,
      "outputs": []
    },
    {
      "cell_type": "markdown",
      "source": [
        "# select relevant features and target variable"
      ],
      "metadata": {
        "id": "pyXmqzOYwkX5"
      }
    },
    {
      "cell_type": "code",
      "source": [
        "# Select relevant features and target variable\n",
        "\n",
        "X = titanic_data[['Pclass', 'Sex', 'Age', 'SibSp', 'Parch', 'Fare']]\n",
        "\n",
        "y = titanic_data['Survived']\n",
        "\n",
        "print(X,y)"
      ],
      "metadata": {
        "id": "2yj1TCaYwutj"
      },
      "execution_count": null,
      "outputs": []
    },
    {
      "cell_type": "markdown",
      "source": [
        "# Categorical variable sex to numerical using.loc"
      ],
      "metadata": {
        "id": "QldFoDR0w3_8"
      }
    },
    {
      "cell_type": "code",
      "source": [
        "# Convert categorical variable 'Sex' to numerical using .loc\n",
        "\n",
        "X.loc[:, 'Sex'] = X['Sex'].map({'female': 0, 'male': 1})"
      ],
      "metadata": {
        "id": "VB4tZLIGxHWS"
      },
      "execution_count": null,
      "outputs": []
    },
    {
      "cell_type": "markdown",
      "source": [
        "#Handle missing values"
      ],
      "metadata": {
        "id": "IYE02giKxgMY"
      }
    },
    {
      "cell_type": "code",
      "source": [
        "# Handle missing values in the 'Age' column using .loc\n",
        "\n",
        "X.loc[:, 'Age'].fillna(X['Age'].median(), inplace=True)"
      ],
      "metadata": {
        "id": "Hf7_WvDZxeRA"
      },
      "execution_count": null,
      "outputs": []
    },
    {
      "cell_type": "markdown",
      "source": [
        "# Split dataset training and testing set"
      ],
      "metadata": {
        "id": "eAuj-1kExmlS"
      }
    },
    {
      "cell_type": "code",
      "source": [
        "X_train, X_test, y_train, y_test = train_test_split(X, y, test_size=0.2, random_state=42)"
      ],
      "metadata": {
        "id": "ujiH77AOxvWy"
      },
      "execution_count": null,
      "outputs": []
    },
    {
      "cell_type": "code",
      "source": [
        "# Create a Random Forest Classifier\n",
        "\n",
        "rf_classifier = RandomForestClassifier(n_estimators=100, random_state=42)"
      ],
      "metadata": {
        "id": "lkbOWr_YyGZp"
      },
      "execution_count": null,
      "outputs": []
    },
    {
      "cell_type": "code",
      "source": [
        "# Train the classifier\n",
        "rf_classifier.fit(X_train, y_train)"
      ],
      "metadata": {
        "id": "u94RuF5CAUhl"
      },
      "execution_count": null,
      "outputs": []
    },
    {
      "cell_type": "code",
      "source": [
        "# Make predictions on the test set\n",
        "y_pred = rf_classifier.predict(X_test)"
      ],
      "metadata": {
        "id": "Aw-9FcA1Axgr"
      },
      "execution_count": null,
      "outputs": []
    },
    {
      "cell_type": "code",
      "source": [
        "# Evaluate the model\n",
        "\n",
        "accuracy = accuracy_score(y_test, y_pred)\n",
        "\n",
        "classification_rep = classification_report(y_test, y_pred)"
      ],
      "metadata": {
        "id": "diyKViUCA8C_"
      },
      "execution_count": null,
      "outputs": []
    },
    {
      "cell_type": "code",
      "source": [
        "# Print the results\n",
        "\n",
        "print(f\"Accuracy: {accuracy:.2f}\")\n",
        "\n",
        "print(\"\\nClassification Report:\\n\", classification_rep)"
      ],
      "metadata": {
        "id": "8z7e4_l8BSJ9"
      },
      "execution_count": null,
      "outputs": []
    },
    {
      "cell_type": "code",
      "source": [
        "# Evaluate the model\n",
        "mse = mean_squared_error(y_test, y_pred)\n",
        "r2 = r2_score(y_test, y_pred)"
      ],
      "metadata": {
        "id": "lNPQBdfdCMCM"
      },
      "execution_count": null,
      "outputs": []
    },
    {
      "cell_type": "code",
      "source": [
        "# Print the results\n",
        "print(f\"Mean Squared Error: {mse:.2f}\")\n",
        "print(f\"R-squared Score: {r2:.2f}\")"
      ],
      "metadata": {
        "id": "kjoi4eeDCTOO"
      },
      "execution_count": null,
      "outputs": []
    }
  ]
}